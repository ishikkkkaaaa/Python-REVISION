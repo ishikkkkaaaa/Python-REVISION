{
 "cells": [
  {
   "cell_type": "code",
   "execution_count": 10,
   "metadata": {},
   "outputs": [
    {
     "name": "stdout",
     "output_type": "stream",
     "text": [
      "Enter the list of numbers: 2 3 4 5\n",
      "The number to search for: 2 \n",
      "2 was found at index 0.\n"
     ]
    }
   ],
   "source": [
    "def linear_search(alist, key):\n",
    "    \"\"\"Return index of key in alist. Return -1 if key not present.\"\"\"\n",
    "    for i in range(len(alist)):\n",
    "        if alist[i] == key:\n",
    "            return i\n",
    "    return -1\n",
    " \n",
    " \n",
    "alist = input('Enter the list of numbers: ')\n",
    "alist = alist.split()\n",
    "alist = [int(x) for x in alist]\n",
    "key = int(input('The number to search for: '))\n",
    " \n",
    "index = linear_search(alist, key)\n",
    "if index < 0:\n",
    "    print('{} was not found.'.format(key))\n",
    "else:\n",
    "    print('{} was found at index {}.'.format(key, index))"
   ]
  },
  {
   "cell_type": "code",
   "execution_count": 11,
   "metadata": {},
   "outputs": [
    {
     "name": "stdout",
     "output_type": "stream",
     "text": [
      "Enter the list of numbers: 1 2 3 8 4\n",
      "The number to search for: 0\n",
      "0 was not found.\n"
     ]
    }
   ],
   "source": [
    "def linear_search(alist, key):\n",
    "    \"\"\"Return index of key in alist. Return -1 if key not present.\"\"\"\n",
    "    for i in range(len(alist)):\n",
    "        if alist[i] == key:\n",
    "            return i\n",
    "    return -1\n",
    " \n",
    " \n",
    "alist = input('Enter the list of numbers: ')\n",
    "alist = alist.split()\n",
    "alist = [int(x) for x in alist]\n",
    "key = int(input('The number to search for: '))\n",
    " \n",
    "index = linear_search(alist, key)\n",
    "if index < 0:\n",
    "    print('{} was not found.'.format(key))\n",
    "else:\n",
    "    print('{} was found at index {}.'.format(key, index))"
   ]
  },
  {
   "cell_type": "code",
   "execution_count": null,
   "metadata": {},
   "outputs": [],
   "source": []
  }
 ],
 "metadata": {
  "kernelspec": {
   "display_name": "Python 3",
   "language": "python",
   "name": "python3"
  },
  "language_info": {
   "codemirror_mode": {
    "name": "ipython",
    "version": 3
   },
   "file_extension": ".py",
   "mimetype": "text/x-python",
   "name": "python",
   "nbconvert_exporter": "python",
   "pygments_lexer": "ipython3",
   "version": "3.8.5"
  }
 },
 "nbformat": 4,
 "nbformat_minor": 4
}
