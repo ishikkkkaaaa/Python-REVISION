{
 "cells": [
  {
   "cell_type": "code",
   "execution_count": 1,
   "metadata": {},
   "outputs": [],
   "source": [
    "import random\n",
    "\n",
    "def randomSolution(tsp):\n",
    "    \n",
    "    cities = list(range(len(tsp)))\n",
    "    solution = []\n",
    "\n",
    "    for i in range(len(tsp)):\n",
    "        randomCity = cities[random.randint(0, len(cities) - 1)]\n",
    "        solution.append(randomCity)\n",
    "        cities.remove(randomCity)\n",
    "\n",
    "    return solution"
   ]
  },
  {
   "cell_type": "code",
   "execution_count": 2,
   "metadata": {},
   "outputs": [],
   "source": [
    "def routeLength(tsp, solution):\n",
    "    routeLength = 0\n",
    "    for i in range(len(solution)):\n",
    "        routeLength += tsp[solution[i - 1]][solution[i]]\n",
    "    return routeLength"
   ]
  },
  {
   "cell_type": "code",
   "execution_count": 3,
   "metadata": {},
   "outputs": [],
   "source": [
    "def getNeighbours(solution):\n",
    "    neighbours = []\n",
    "    for i in range(len(solution)):\n",
    "        for j in range(i + 1, len(solution)):\n",
    "            neighbour = solution.copy()\n",
    "            neighbour[i] = solution[j]\n",
    "            neighbour[j] = solution[i]\n",
    "            neighbours.append(neighbour)\n",
    "    return neighbours"
   ]
  },
  {
   "cell_type": "code",
   "execution_count": 4,
   "metadata": {},
   "outputs": [],
   "source": [
    "def getBestNeighbour(tsp, neighbours):\n",
    "    bestRouteLength = routeLength(tsp, neighbours[0])\n",
    "    bestNeighbour = neighbours[0]\n",
    "    for neighbour in neighbours:\n",
    "        currentRouteLength = routeLength(tsp, neighbour)\n",
    "        if currentRouteLength < bestRouteLength:\n",
    "            bestRouteLength = currentRouteLength\n",
    "            bestNeighbour = neighbour\n",
    "    return bestNeighbour, bestRouteLength"
   ]
  },
  {
   "cell_type": "code",
   "execution_count": 5,
   "metadata": {},
   "outputs": [],
   "source": [
    "def hillClimbing(tsp):\n",
    "    currentSolution = randomSolution(tsp)\n",
    "    currentRouteLength = routeLength(tsp, currentSolution)\n",
    "    neighbours = getNeighbours(currentSolution)            \n",
    "\n",
    "    bestNeighbour, bestNeighbourRouteLength = getBestNeighbour(tsp, neighbours)\n",
    "\n",
    "    while bestNeighbourRouteLength < currentRouteLength:\n",
    "        currentSolution = bestNeighbour\n",
    "        currentRouteLength = bestNeighbourRouteLength\n",
    "        neighbours = getNeighbours(currentSolution)\n",
    "        bestNeighbour, bestNeighbourRouteLength = getBestNeighbour(tsp, neighbours)\n",
    "\n",
    "    return currentSolution, currentRouteLength"
   ]
  },
  {
   "cell_type": "code",
   "execution_count": 6,
   "metadata": {},
   "outputs": [
    {
     "name": "stdout",
     "output_type": "stream",
     "text": [
      "([3, 5, 9, 6, 0, 7, 1, 4, 2, 8], 29)\n"
     ]
    }
   ],
   "source": [
    "def main():\n",
    "    tsp = [[0 , 10 , 5 , 3 , 9 , 8 , 1 , 7 , 8 , 9],\n",
    "            [10 , 0 , 7 , 5 , 3 , 11 , 12 , 3 , 2 , 1],\n",
    "            [5 , 7 , 0 , 1 , 1 , 4 , 5 , 9 , 2 , 7],\n",
    "            [3 , 5 , 1 , 0 , 6 , 5 , 4 , 3 , 2 , 1],\n",
    "            [9 , 3 , 1 , 6 , 0 , 12 , 13 , 1 , 2 , 3],\n",
    "            [8 ,11 , 4 , 5 , 12 , 0 , 9 , 7 , 8 , 1],\n",
    "            [1 , 12 , 5 , 4 , 13 , 9 , 0 , 10 , 5 , 4],\n",
    "            [7 , 3 , 9 , 3 , 1 , 7 , 10 , 0 , 11 , 13],\n",
    "            [8 , 2 , 2 , 2 , 2 , 8 , 5 , 11 , 0 , 4],\n",
    "            [9 , 1 , 7 , 1 , 3 , 1 , 4 , 13 , 4 , 0]]\n",
    "\n",
    "    print(hillClimbing(tsp))\n",
    "\n",
    "if __name__ == \"__main__\":\n",
    "    main()\n",
    "    "
   ]
  },
  {
   "cell_type": "code",
   "execution_count": null,
   "metadata": {},
   "outputs": [],
   "source": []
  }
 ],
 "metadata": {
  "kernelspec": {
   "display_name": "Python 3",
   "language": "python",
   "name": "python3"
  },
  "language_info": {
   "codemirror_mode": {
    "name": "ipython",
    "version": 3
   },
   "file_extension": ".py",
   "mimetype": "text/x-python",
   "name": "python",
   "nbconvert_exporter": "python",
   "pygments_lexer": "ipython3",
   "version": "3.8.5"
  }
 },
 "nbformat": 4,
 "nbformat_minor": 4
}
