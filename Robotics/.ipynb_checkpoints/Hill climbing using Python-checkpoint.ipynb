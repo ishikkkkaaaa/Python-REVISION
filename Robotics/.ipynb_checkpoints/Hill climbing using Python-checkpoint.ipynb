{
 "cells": [
  {
   "cell_type": "code",
   "execution_count": 3,
   "metadata": {},
   "outputs": [],
   "source": [
    "import random\n",
    "import math\n",
    "import time"
   ]
  },
  {
   "cell_type": "code",
   "execution_count": 5,
   "metadata": {},
   "outputs": [],
   "source": [
    "def costl(x, y):\n",
    "    if x==y:\n",
    "        return 0\n",
    "    elif x<3 and y<3:\n",
    "        return 1\n",
    "    elif x<3:\n",
    "        return 200\n",
    "    elif (x%7) == (y%7) :\n",
    "        return 2\n",
    "    else:\n",
    "        return abs(x-y)+3\n",
    "    return"
   ]
  },
  {
   "cell_type": "code",
   "execution_count": 6,
   "metadata": {},
   "outputs": [],
   "source": [
    "def cost2(x,y):\n",
    "    if x==y:\n",
    "        return 0\n",
    "    elif (x+y)<10:\n",
    "        return abs(x-y)+4\n",
    "    elif [(x+y)%11]==0:\n",
    "        return 3\n",
    "    else: \n",
    "        return abs(x-y)**2+10\n",
    "    return"
   ]
  },
  {
   "cell_type": "code",
   "execution_count": 7,
   "metadata": {},
   "outputs": [],
   "source": [
    "def cost3(x,y):\n",
    "    if x==y:\n",
    "        return 0\n",
    "    else: \n",
    "        return (x+y)**2\n",
    "    return"
   ]
  },
  {
   "cell_type": "code",
   "execution_count": 8,
   "metadata": {},
   "outputs": [],
   "source": [
    "def random_path(no_cities,seed1):\n",
    "    tour=list(range(no_cities))\n",
    "    random.seed(seed1)\n",
    "    random.shuffle(tour)\n",
    "    return tour"
   ]
  },
  {
   "cell_type": "code",
   "execution_count": 10,
   "metadata": {},
   "outputs": [],
   "source": [
    "def tour_cost(tours,cost_fun):\n",
    "    total_cost=0\n",
    "    cost_i=0\n",
    "    n=len(tours)\n",
    "    for i,city in enumerate(tours):\n",
    "        if i==n-1:\n",
    "            if(cost_fun==\"cl\"):\n",
    "                cost_i=cost1(tours[i],tours[0])\n",
    "            if(cost_fun==\"c2\"):\n",
    "                cost_i=cost2(tours[i],tours[0])\n",
    "            if(cost_fun==\"c3\"):\n",
    "                cost_i=cost3(tours[i],tours[0])\n",
    "            total_cost=total_cost+cost_i\n",
    "        else:\n",
    "            if(cost_fun==\"cl\"):\n",
    "                cost_i=cost1(tours[i],tours[i+1])\n",
    "            if(cost_fun==\"c2\"):\n",
    "                cost_i=cost2(tours[i],tours[i+1])\n",
    "            if(cost_fun==\"c3\"):\n",
    "                cost_i=cost3(tours[i],tours[i+1])\n",
    "            total_cost=total_cost+cost_i"
   ]
  },
  {
   "cell_type": "code",
   "execution_count": 11,
   "metadata": {},
   "outputs": [],
   "source": [
    "def mutation_operator(tours):\n",
    "    r1=list(range(len(tours)))\n",
    "    r2=list(range(len(tours)))\n",
    "    random.shuffle(r1)\n",
    "    random.shuffle(r2)\n",
    "    for i in r1:\n",
    "        for j in r2:\n",
    "            if i < j:\n",
    "                next_state = tours[:]\n",
    "                next_state[i],next_state[j]=tours[j],tours[i]\n",
    "                yield next_state"
   ]
  },
  {
   "cell_type": "code",
   "execution_count": 14,
   "metadata": {},
   "outputs": [
    {
     "ename": "SyntaxError",
     "evalue": "invalid character in identifier (<ipython-input-14-732afebeebfe>, line 7)",
     "output_type": "error",
     "traceback": [
      "\u001b[0;36m  File \u001b[0;32m\"<ipython-input-14-732afebeebfe>\"\u001b[0;36m, line \u001b[0;32m7\u001b[0m\n\u001b[0;31m    return math.exp( —abs (next_score — prev_score) / temperature )\u001b[0m\n\u001b[0m                        ^\u001b[0m\n\u001b[0;31mSyntaxError\u001b[0m\u001b[0;31m:\u001b[0m invalid character in identifier\n"
     ]
    }
   ],
   "source": [
    "def Probability_acceptance(prev_score, next_score, temperature) :\n",
    "    if next_score < prev_score:\n",
    "        return 1.0\n",
    "    elif temperature==0:\n",
    "        return 0.0\n",
    "    else :\n",
    "        return math.exp( —abs (next_score — prev_score) / temperature ) "
   ]
  },
  {
   "cell_type": "code",
   "execution_count": null,
   "metadata": {},
   "outputs": [],
   "source": []
  }
 ],
 "metadata": {
  "kernelspec": {
   "display_name": "Python 3",
   "language": "python",
   "name": "python3"
  },
  "language_info": {
   "codemirror_mode": {
    "name": "ipython",
    "version": 3
   },
   "file_extension": ".py",
   "mimetype": "text/x-python",
   "name": "python",
   "nbconvert_exporter": "python",
   "pygments_lexer": "ipython3",
   "version": "3.8.5"
  }
 },
 "nbformat": 4,
 "nbformat_minor": 4
}
