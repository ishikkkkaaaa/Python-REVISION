{
 "cells": [
  {
   "cell_type": "code",
   "execution_count": 2,
   "metadata": {},
   "outputs": [],
   "source": [
    "import numpy as np"
   ]
  },
  {
   "cell_type": "code",
   "execution_count": 24,
   "metadata": {},
   "outputs": [],
   "source": [
    "class NeuralNetwork():\n",
    "    def __init (self):\n",
    "        #seeding for random number generation\n",
    "        np.random.seed(1)\n",
    "        \n",
    "        #converting weights to a 3 by 1 matrix w values -1 to 1 and mean of 0\n",
    "        self.synaptic_weights = 2*np.random.random((3,1)) - 1\n",
    "    def sigmoid(self, x):\n",
    "    #applying the sigmoid function\n",
    "      return 1 / ( 1 + np.exp( -x ) )\n",
    "\n",
    "    def sigmoid_derivative(self, x):\n",
    "    #computing derivative to the sigmoid function\n",
    "      return x * ( 1 - x )\n",
    "\n",
    "    def train( self , training_inputs , training_outputs , training_iterations ):\n",
    "    #training the model to make accurate predictions while adjusting weights continually\n",
    "      for iteration in range(training_iterations):\n",
    "        #siphon the training data via the neuron\n",
    "        output = self.think(training_inputs)\n",
    "        \n",
    "        #computing error rate for backpropogation\n",
    "        error = training_outputs - output\n",
    "        \n",
    "        #performing weight adjustments\n",
    "        adjustments = np.dot(training_inputs.T, error * self.sigmoid_derivative(output))\n",
    "        \n",
    "        self.synpatic_weights += adjustments\n",
    "        \n",
    "    def think(self, inputs):\n",
    "    #passing the inputs via the neuron to get output\n",
    "    #converting values to float\n",
    "    \n",
    "     return output"
   ]
  },
  {
   "cell_type": "code",
   "execution_count": 28,
   "metadata": {},
   "outputs": [
    {
     "name": "stdout",
     "output_type": "stream",
     "text": [
      " Beginninh Randomly Generatedn Weights: \n",
      "0\n",
      " Ending Weights After Training: \n",
      "[[10.08729888 10.08729888 10.08729888]\n",
      " [-0.20733391 -0.20733391 -0.20733391]\n",
      " [-4.83729645 -4.83729645 -4.83729645]]\n",
      " User Input One: 1\n",
      " User Input Two: 0\n",
      " User Input Three: 0\n",
      " Considering New Situations:  1 0 0\n",
      " New Output Data: \n",
      "[0.9999584 0.9999584 0.9999584]\n",
      " ENJOY YOUR DAY!!!!!!! \n"
     ]
    }
   ],
   "source": [
    "neural_network = NeuralNetwork()\n",
    "    \n",
    "print( \" Beginninh Randomly Generatedn Weights: \" )\n",
    "    \n",
    "print( neural_network.synaptic_weights )\n",
    "    \n",
    "training_inputs = np.array( [ [ 0 , 0 , 1 ] , [ 1 , 1 , 1 ] , [ 1 , 0 , 1 ] , [ 0 , 1 , 1 ]] )\n",
    "    \n",
    "training_outputs = np.array( [ [ 0 , 1 , 1 , 0 ] ] ) . T\n",
    "    \n",
    "neural_network.train( training_inputs , training_outputs , 15000 )\n",
    "    \n",
    "print( \" Ending Weights After Training: \" )\n",
    "print(neural_network.synaptic_weights)\n",
    "\n",
    "user_input_one = str(input( \" User Input One: \" ))\n",
    "user_input_two = str(input( \" User Input Two: \" ))\n",
    "user_input_three = str(input( \" User Input Three: \" ))\n",
    "    \n",
    "print( \" Considering New Situations: \" , user_input_one , user_input_two , user_input_three )\n",
    "print( \" New Output Data: \" )\n",
    "print( neural_network.think ( np.array ( [ user_input_one , user_input_two , user_input_three ] ) ) )\n",
    "    \n",
    "print( \" ENJOY YOUR DAY!!!!!!! \" )"
   ]
  },
  {
   "cell_type": "code",
   "execution_count": null,
   "metadata": {},
   "outputs": [],
   "source": []
  }
 ],
 "metadata": {
  "kernelspec": {
   "display_name": "Python 3",
   "language": "python",
   "name": "python3"
  },
  "language_info": {
   "codemirror_mode": {
    "name": "ipython",
    "version": 3
   },
   "file_extension": ".py",
   "mimetype": "text/x-python",
   "name": "python",
   "nbconvert_exporter": "python",
   "pygments_lexer": "ipython3",
   "version": "3.8.5"
  }
 },
 "nbformat": 4,
 "nbformat_minor": 4
}
