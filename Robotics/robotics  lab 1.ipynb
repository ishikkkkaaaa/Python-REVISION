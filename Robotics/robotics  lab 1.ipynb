{
 "cells": [
  {
   "cell_type": "code",
   "execution_count": 4,
   "metadata": {},
   "outputs": [],
   "source": [
    "# Contributed by Everton Colling\n",
    "import matplotlib.animation as animation\n",
    "import numpy as np\n",
    "from gekko import GEKKO\n",
    "\n",
    "#Defining a model\n",
    "m = GEKKO()"
   ]
  },
  {
   "cell_type": "code",
   "execution_count": 5,
   "metadata": {},
   "outputs": [],
   "source": [
    "#Weight of item\n",
    "m2 = 1"
   ]
  },
  {
   "cell_type": "code",
   "execution_count": 6,
   "metadata": {},
   "outputs": [],
   "source": [
    "#Defining the time, we will go beyond the 6.2s\n",
    "#to check if the objective was achieved\n",
    "m.time = np.linspace(0,8,100)\n",
    "end_loc = int(100.0*6.2/8.0)\n"
   ]
  },
  {
   "cell_type": "code",
   "execution_count": 7,
   "metadata": {},
   "outputs": [],
   "source": [
    "#Parameters\n",
    "m1a = m.Param(value=10)\n",
    "m2a = m.Param(value=m2)\n",
    "final = np.zeros(len(m.time))\n",
    "for i in range(len(m.time)):\n",
    "    if m.time[i] < 6.2:\n",
    "        final[i] = 0\n",
    "    else:\n",
    "        final[i] = 1\n",
    "final = m.Param(value=final)"
   ]
  },
  {
   "cell_type": "code",
   "execution_count": 8,
   "metadata": {},
   "outputs": [],
   "source": [
    "#MV\n",
    "ua = m.Var(value=0)"
   ]
  },
  {
   "cell_type": "code",
   "execution_count": 9,
   "metadata": {},
   "outputs": [],
   "source": [
    "#State Variables\n",
    "theta_a = m.Var(value=0)\n",
    "qa = m.Var(value=0)\n",
    "ya = m.Var(value=-1)\n",
    "va = m.Var(value=0)"
   ]
  },
  {
   "cell_type": "code",
   "execution_count": 10,
   "metadata": {},
   "outputs": [],
   "source": [
    "#Intermediates\n",
    "epsilon = m.Intermediate(m2a/(m1a+m2a))"
   ]
  },
  {
   "cell_type": "code",
   "execution_count": 11,
   "metadata": {},
   "outputs": [
    {
     "data": {
      "text/plain": [
       "<gekko.gekko.EquationObj at 0x7fc0a8384d30>"
      ]
     },
     "execution_count": 11,
     "metadata": {},
     "output_type": "execute_result"
    }
   ],
   "source": [
    "#Defining the State Space Model\n",
    "m.Equation(ya.dt() == va)\n",
    "m.Equation(va.dt() == -epsilon*theta_a + ua)\n",
    "m.Equation(theta_a.dt() == qa)\n",
    "m.Equation(qa.dt() == theta_a -ua)"
   ]
  },
  {
   "cell_type": "code",
   "execution_count": 12,
   "metadata": {},
   "outputs": [],
   "source": [
    "#Definine the Objectives\n",
    "#Make all the state variables be zero at time >= 6.2\n",
    "m.Obj(final*ya**2)\n",
    "m.Obj(final*va**2)\n",
    "m.Obj(final*theta_a**2)\n",
    "m.Obj(final*qa**2)\n",
    "\n",
    "m.fix(ya,pos=end_loc,val=0.0)\n",
    "m.fix(va,pos=end_loc,val=0.0)\n",
    "m.fix(theta_a,pos=end_loc,val=0.0)\n",
    "m.fix(qa,pos=end_loc,val=0.0)"
   ]
  },
  {
   "cell_type": "code",
   "execution_count": 14,
   "metadata": {},
   "outputs": [
    {
     "name": "stdout",
     "output_type": "stream",
     "text": [
      "apm 171.78.234.182_gk_model4 <br><pre> ----------------------------------------------------------------\n",
      " APMonitor, Version 1.0.0\n",
      " APMonitor Optimization Suite\n",
      " ----------------------------------------------------------------\n",
      " \n",
      " \n",
      " --------- APM Model Size ------------\n",
      " Each time step contains\n",
      "   Objects      :            0\n",
      "   Constants    :            0\n",
      "   Variables    :            8\n",
      "   Intermediates:            1\n",
      "   Connections  :            8\n",
      "   Equations    :           11\n",
      "   Residuals    :           10\n",
      " \n",
      " Number of state variables:            883\n",
      " Number of total equations: -          792\n",
      " Number of slack variables: -            0\n",
      " ---------------------------------------\n",
      " Degrees of freedom       :             91\n",
      " \n",
      " **********************************************\n",
      " Dynamic Control with Interior Point Solver\n",
      " **********************************************\n",
      "  \n",
      "  \n",
      " Info: Exact Hessian\n",
      "\n",
      "******************************************************************************\n",
      "This program contains Ipopt, a library for large-scale nonlinear optimization.\n",
      " Ipopt is released as open source code under the Eclipse Public License (EPL).\n",
      "         For more information visit http://projects.coin-or.org/Ipopt\n",
      "******************************************************************************\n",
      "\n",
      "This is Ipopt version 3.12.10, running with linear solver ma57.\n",
      "\n",
      "Number of nonzeros in equality constraint Jacobian...:     2154\n",
      "Number of nonzeros in inequality constraint Jacobian.:        0\n",
      "Number of nonzeros in Lagrangian Hessian.............:      491\n",
      "\n",
      "Total number of variables............................:      883\n",
      "                     variables with only lower bounds:        0\n",
      "                variables with lower and upper bounds:        0\n",
      "                     variables with only upper bounds:        0\n",
      "Total number of equality constraints.................:      792\n",
      "Total number of inequality constraints...............:        0\n",
      "        inequality constraints with only lower bounds:        0\n",
      "   inequality constraints with lower and upper bounds:        0\n",
      "        inequality constraints with only upper bounds:        0\n",
      "\n",
      "iter    objective    inf_pr   inf_du lg(mu)  ||d||  lg(rg) alpha_du alpha_pr  ls\n",
      "   0  1.8337202e-02 7.29e-09 3.06e-03   0.0 0.00e+00    -  0.00e+00 0.00e+00   0\n",
      "   1  1.6947944e-02 2.87e-12 3.94e-17 -11.0 7.31e-01    -  1.00e+00 1.00e+00f  1\n",
      "\n",
      "Number of Iterations....: 1\n",
      "\n",
      "                                   (scaled)                 (unscaled)\n",
      "Objective...............:   1.6947944488405756e-02    1.6947944488405756e-02\n",
      "Dual infeasibility......:   3.9438355991929486e-17    3.9438355991929486e-17\n",
      "Constraint violation....:   2.8721966344663231e-12    2.8721966344663231e-12\n",
      "Complementarity.........:   0.0000000000000000e+00    0.0000000000000000e+00\n",
      "Overall NLP error.......:   2.8721966344663231e-12    2.8721966344663231e-12\n",
      "\n",
      "\n",
      "Number of objective function evaluations             = 2\n",
      "Number of objective gradient evaluations             = 2\n",
      "Number of equality constraint evaluations            = 2\n",
      "Number of inequality constraint evaluations          = 0\n",
      "Number of equality constraint Jacobian evaluations   = 2\n",
      "Number of inequality constraint Jacobian evaluations = 0\n",
      "Number of Lagrangian Hessian evaluations             = 1\n",
      "Total CPU secs in IPOPT (w/o function evaluations)   =      0.008\n",
      "Total CPU secs in NLP function evaluations           =      0.014\n",
      "\n",
      "EXIT: Optimal Solution Found.\n",
      " \n",
      " The solution was found.\n",
      " \n",
      " The final value of the objective function is   1.694794448840576E-002\n",
      " \n",
      " ---------------------------------------------------\n",
      " Solver         :  IPOPT (v3.12)\n",
      " Solution time  :   3.320000000530854E-002 sec\n",
      " Objective      :   1.694794448840576E-002\n",
      " Successful solution\n",
      " ---------------------------------------------------\n",
      " \n"
     ]
    }
   ],
   "source": [
    "#Try to minimize change of MV over all horizon\n",
    "m.Obj(0.001*ua**2)\n",
    "\n",
    "m.options.IMODE = 6 #MPC\n",
    "m.solve() #(disp=False)"
   ]
  },
  {
   "cell_type": "code",
   "execution_count": 15,
   "metadata": {},
   "outputs": [
    {
     "data": {
      "text/plain": [
       "<Figure size 864x720 with 0 Axes>"
      ]
     },
     "execution_count": 15,
     "metadata": {},
     "output_type": "execute_result"
    },
    {
     "data": {
      "text/plain": [
       "<Figure size 864x720 with 0 Axes>"
      ]
     },
     "metadata": {},
     "output_type": "display_data"
    }
   ],
   "source": [
    "#Plotting the results\n",
    "import matplotlib.pyplot as plt\n",
    "plt.figure(figsize=(12,10))\n"
   ]
  },
  {
   "cell_type": "code",
   "execution_count": 16,
   "metadata": {},
   "outputs": [
    {
     "data": {
      "image/png": "[encoded data removed]",
      "text/plain": [
       "<Figure size 432x288 with 4 Axes>"
      ]
     },
     "metadata": {
      "needs_background": "light"
     },
     "output_type": "display_data"
    }
   ],
   "source": [
    "plt.subplot(221)\n",
    "plt.plot(m.time,ua.value,'m',lw=2)\n",
    "plt.legend([r'$u$'],loc=1)\n",
    "plt.ylabel('Force')\n",
    "plt.xlabel('Time')\n",
    "plt.xlim(m.time[0],m.time[-1])\n",
    "\n",
    "plt.subplot(222)\n",
    "plt.plot(m.time,va.value,'g',lw=2)\n",
    "plt.legend([r'$v$'],loc=1)\n",
    "plt.ylabel('Velocity')\n",
    "plt.xlabel('Time')\n",
    "plt.xlim(m.time[0],m.time[-1])\n",
    "\n",
    "plt.subplot(223)\n",
    "plt.plot(m.time,ya.value,'r',lw=2)\n",
    "plt.legend([r'$y$'],loc=1)\n",
    "plt.ylabel('Position')\n",
    "plt.xlabel('Time')\n",
    "plt.xlim(m.time[0],m.time[-1])\n",
    "\n",
    "plt.subplot(224)\n",
    "plt.plot(m.time,theta_a.value,'y',lw=2)\n",
    "plt.plot(m.time,qa.value,'c',lw=2)\n",
    "plt.legend([r'$\\theta$',r'$q$'],loc=1)\n",
    "plt.ylabel('Angle')\n",
    "plt.xlabel('Time')\n",
    "plt.xlim(m.time[0],m.time[-1])\n",
    "\n",
    "plt.rcParams['animation.html'] = 'html5'\n",
    "\n",
    "x1 = ya.value\n",
    "y1 = np.zeros(len(m.time))"
   ]
  },
  {
   "cell_type": "code",
   "execution_count": 17,
   "metadata": {},
   "outputs": [
    {
     "data": {
      "image/png": "[encoded data removed]",
      "text/plain": [
       "<Figure size 576x460.8 with 1 Axes>"
      ]
     },
     "metadata": {
      "needs_background": "light"
     },
     "output_type": "display_data"
    }
   ],
   "source": [
    "#suppose that l = 1\n",
    "x2 = 1*np.sin(theta_a.value)+x1\n",
    "x2b = 1.05*np.sin(theta_a.value)+x1\n",
    "y2 = 1*np.cos(theta_a.value)-y1\n",
    "y2b = 1.05*np.cos(theta_a.value)-y1\n",
    "\n",
    "fig = plt.figure(figsize=(8,6.4))\n",
    "ax = fig.add_subplot(111,autoscale_on=False,\\\n",
    "                     xlim=(-1.5,0.5),ylim=(-0.4,1.2))\n",
    "ax.set_xlabel('position')\n",
    "ax.get_yaxis().set_visible(False)\n",
    "\n",
    "crane_rail, = ax.plot([-1.5,0.5],[-0.2,-0.2],'k-',lw=4)\n",
    "start, = ax.plot([-1,-1],[-1.5,1.5],'k:',lw=2)\n",
    "objective, = ax.plot([0,0],[-0.5,1.5],'k:',lw=2)\n",
    "mass1, = ax.plot([],[],linestyle='None',marker='s',\\\n",
    "                 markersize=40,markeredgecolor='k',\\\n",
    "                 color='orange',markeredgewidth=2)\n",
    "mass2, = ax.plot([],[],linestyle='None',marker='o',\\\n",
    "                 markersize=20,markeredgecolor='k',\\\n",
    "                 color='orange',markeredgewidth=2)\n",
    "line, = ax.plot([],[],'o-',color='orange',lw=4,\\\n",
    "                markersize=6,markeredgecolor='k',\\\n",
    "                markerfacecolor='k')\n",
    "time_template = 'time = %.1fs'\n",
    "time_text = ax.text(0.05,0.9,'',transform=ax.transAxes)\n",
    "start_text = ax.text(-1.06,-0.3,'start',ha='right')\n",
    "end_text = ax.text(0.06,-0.3,'objective',ha='left')\n",
    "\n",
    "def init():\n",
    "    mass1.set_data([],[])\n",
    "    mass2.set_data([],[])\n",
    "    line.set_data([],[])\n",
    "    time_text.set_text('')\n",
    "    return line, mass1, mass2, time_text\n",
    "\n",
    "def animate(i):\n",
    "    mass1.set_data([x1[i]],[y1[i]-0.1])\n",
    "    mass2.set_data([x2b[i]],[y2b[i]])\n",
    "    line.set_data([x1[i],x2[i]],[y1[i],y2[i]])\n",
    "    time_text.set_text(time_template % m.time[i])\n",
    "    return line, mass1, mass2, time_text\n",
    "\n",
    "ani_a = animation.FuncAnimation(fig, animate, \\\n",
    "         np.arange(1,len(m.time)), \\\n",
    "         interval=40,blit=False,init_func=init)\n",
    "\n",
    "\n",
    "plt.show()"
   ]
  },
  {
   "cell_type": "code",
   "execution_count": 1,
   "metadata": {},
   "outputs": [
    {
     "data": {
      "image/png": "[encoded data removed]",
      "text/plain": [
       "<Figure size 432x288 with 1 Axes>"
      ]
     },
     "metadata": {
      "needs_background": "light"
     },
     "output_type": "display_data"
    }
   ],
   "source": [
    "from control import *\n",
    "import matplotlib.pyplot as plt\n",
    "import pylab as pl\n",
    "g=tf(1, [1,0.5,1])\n",
    "\n",
    "t,y = step_response(g)\n",
    "plt.plot(t,y)\n",
    "plt.xlabel('t')\n",
    "plt.ylabel('y')\n",
    "plt.grid()\n",
    "pl.show()"
   ]
  },
  {
   "cell_type": "code",
   "execution_count": null,
   "metadata": {},
   "outputs": [],
   "source": []
  }
 ],
 "metadata": {
  "kernelspec": {
   "display_name": "Python 3",
   "language": "python",
   "name": "python3"
  },
  "language_info": {
   "codemirror_mode": {
    "name": "ipython",
    "version": 3
   },
   "file_extension": ".py",
   "mimetype": "text/x-python",
   "name": "python",
   "nbconvert_exporter": "python",
   "pygments_lexer": "ipython3",
   "version": "3.8.5"
  }
 },
 "nbformat": 4,
 "nbformat_minor": 4
}
